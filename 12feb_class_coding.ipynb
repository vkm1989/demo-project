{
 "cells": [
  {
   "cell_type": "code",
   "execution_count": 2,
   "id": "9fee03c9",
   "metadata": {},
   "outputs": [
    {
     "data": {
      "text/plain": [
       "{'key1': 'value1', 'key2': 'value2'}"
      ]
     },
     "execution_count": 2,
     "metadata": {},
     "output_type": "execute_result"
    }
   ],
   "source": [
    "# Dictionaries\n",
    "# Constructing adictionary\n",
    "\n",
    "my_dict={'key1':'value1' , 'key2':'value2'}\n",
    "my_dict"
   ]
  },
  {
   "cell_type": "code",
   "execution_count": 3,
   "id": "6128930f",
   "metadata": {},
   "outputs": [
    {
     "data": {
      "text/plain": [
       "'value2'"
      ]
     },
     "execution_count": 3,
     "metadata": {},
     "output_type": "execute_result"
    }
   ],
   "source": [
    "# call value by their key\n",
    "\n",
    "my_dict['key2']"
   ]
  },
  {
   "cell_type": "code",
   "execution_count": 4,
   "id": "2b616ae6",
   "metadata": {},
   "outputs": [],
   "source": [
    "# dictionaries are very flexible in the data types, they can hold\n",
    "\n",
    "my_dict={'roll_number':123,'marks':[12,23,33],'subject':['com','sci','math']}"
   ]
  },
  {
   "cell_type": "code",
   "execution_count": 5,
   "id": "57ccf344",
   "metadata": {},
   "outputs": [
    {
     "data": {
      "text/plain": [
       "['com', 'sci', 'math']"
      ]
     },
     "execution_count": 5,
     "metadata": {},
     "output_type": "execute_result"
    }
   ],
   "source": [
    "# lets call item from the dictionary\n",
    "\n",
    "my_dict['subject']"
   ]
  },
  {
   "cell_type": "code",
   "execution_count": 6,
   "id": "15b6eb50",
   "metadata": {},
   "outputs": [
    {
     "data": {
      "text/plain": [
       "'math'"
      ]
     },
     "execution_count": 6,
     "metadata": {},
     "output_type": "execute_result"
    }
   ],
   "source": [
    "#can call an index on that value\n",
    "\n",
    "my_dict['subject'][2]"
   ]
  },
  {
   "cell_type": "code",
   "execution_count": 7,
   "id": "1b2ee48d",
   "metadata": {},
   "outputs": [
    {
     "data": {
      "text/plain": [
       "'COM'"
      ]
     },
     "execution_count": 7,
     "metadata": {},
     "output_type": "execute_result"
    }
   ],
   "source": [
    "# can the even call method on that value\n",
    "\n",
    "my_dict['subject'][0].upper()"
   ]
  },
  {
   "cell_type": "code",
   "execution_count": 8,
   "id": "1aafc72d",
   "metadata": {},
   "outputs": [
    {
     "data": {
      "text/plain": [
       "'com'"
      ]
     },
     "execution_count": 8,
     "metadata": {},
     "output_type": "execute_result"
    }
   ],
   "source": [
    "my_dict['subject'][0].lower()"
   ]
  },
  {
   "cell_type": "code",
   "execution_count": 9,
   "id": "f58214fa",
   "metadata": {},
   "outputs": [],
   "source": [
    "# add marks to the element\n",
    "\n",
    "my_dict['marks'][1]=my_dict['marks'][1]+30"
   ]
  },
  {
   "cell_type": "code",
   "execution_count": 10,
   "id": "31cbb1bc",
   "metadata": {},
   "outputs": [
    {
     "data": {
      "text/plain": [
       "{'roll_number': 123, 'marks': [12, 53, 33], 'subject': ['com', 'sci', 'math']}"
      ]
     },
     "execution_count": 10,
     "metadata": {},
     "output_type": "execute_result"
    }
   ],
   "source": [
    "# chek\n",
    "\n",
    "my_dict"
   ]
  },
  {
   "cell_type": "code",
   "execution_count": 11,
   "id": "9093f1d2",
   "metadata": {},
   "outputs": [
    {
     "data": {
      "text/plain": [
       "[32, 53, 33]"
      ]
     },
     "execution_count": 11,
     "metadata": {},
     "output_type": "execute_result"
    }
   ],
   "source": [
    "# another way of adding\n",
    "\n",
    "my_dict['marks'][0]+=20\n",
    "my_dict['marks']"
   ]
  },
  {
   "cell_type": "code",
   "execution_count": 12,
   "id": "c480da34",
   "metadata": {},
   "outputs": [
    {
     "data": {
      "text/plain": [
       "[32, 50, 33]"
      ]
     },
     "execution_count": 12,
     "metadata": {},
     "output_type": "execute_result"
    }
   ],
   "source": [
    "# subtracting\n",
    "\n",
    "my_dict['marks'][1]-=3\n",
    "my_dict['marks']"
   ]
  },
  {
   "cell_type": "code",
   "execution_count": 13,
   "id": "150aa0d8",
   "metadata": {},
   "outputs": [
    {
     "data": {
      "text/plain": [
       "[64, 50, 33]"
      ]
     },
     "execution_count": 13,
     "metadata": {},
     "output_type": "execute_result"
    }
   ],
   "source": [
    "# multiplication\n",
    "\n",
    "my_dict['marks'][0]*=2\n",
    "my_dict['marks']"
   ]
  },
  {
   "cell_type": "code",
   "execution_count": 14,
   "id": "cd40ad29",
   "metadata": {},
   "outputs": [
    {
     "data": {
      "text/plain": [
       "[64, 25.0, 33]"
      ]
     },
     "execution_count": 14,
     "metadata": {},
     "output_type": "execute_result"
    }
   ],
   "source": [
    "# division\n",
    "\n",
    "my_dict['marks'][1]/=2\n",
    "my_dict['marks']"
   ]
  },
  {
   "cell_type": "code",
   "execution_count": 15,
   "id": "cba46bae",
   "metadata": {},
   "outputs": [
    {
     "data": {
      "text/plain": [
       "{'roll_number': 123,\n",
       " 'marks': [64, 25.0, 33],\n",
       " 'subject': ['com', 'sci', 'math'],\n",
       " 'year': '3rd'}"
      ]
     },
     "execution_count": 15,
     "metadata": {},
     "output_type": "execute_result"
    }
   ],
   "source": [
    "# add new key\n",
    "\n",
    "my_dict['year']='3rd'\n",
    "my_dict"
   ]
  },
  {
   "cell_type": "code",
   "execution_count": 17,
   "id": "c8e69111",
   "metadata": {},
   "outputs": [],
   "source": [
    "# update value\n",
    "\n",
    "my_dict.update({'roll_number':100})"
   ]
  },
  {
   "cell_type": "code",
   "execution_count": 36,
   "id": "212b7814",
   "metadata": {},
   "outputs": [
    {
     "data": {
      "text/plain": [
       "{'roll_number': 100,\n",
       " 'marks': [64, 25.0, 33],\n",
       " 'subject': ['com', 'sci', 'math'],\n",
       " 'year': '3rd'}"
      ]
     },
     "execution_count": 36,
     "metadata": {},
     "output_type": "execute_result"
    }
   ],
   "source": [
    "my_dict"
   ]
  },
  {
   "cell_type": "code",
   "execution_count": 61,
   "id": "3d70e040",
   "metadata": {},
   "outputs": [
    {
     "name": "stdout",
     "output_type": "stream",
     "text": [
      "it is less than 10\n"
     ]
    }
   ],
   "source": [
    "# you can also write on this way\n",
    "print('it is less than 10') if i<10 else print('something else')"
   ]
  },
  {
   "cell_type": "code",
   "execution_count": 60,
   "id": "d6c6bbea",
   "metadata": {},
   "outputs": [
    {
     "name": "stdout",
     "output_type": "stream",
     "text": [
      "It is less than 10\n"
     ]
    }
   ],
   "source": [
    "i = 8\n",
    "if i < 10:\n",
    "    print('It is less than 10')\n",
    "else:\n",
    "    print('It is something Else')"
   ]
  },
  {
   "cell_type": "code",
   "execution_count": 66,
   "id": "ed508a62",
   "metadata": {},
   "outputs": [
    {
     "name": "stdout",
     "output_type": "stream",
     "text": [
      "please add 100 rs for free shipping\n"
     ]
    }
   ],
   "source": [
    "# free shiping message\n",
    "\n",
    "item_1=200\n",
    "item_2=200\n",
    "if(item_1+item_2)>=500:\n",
    "    print('youritem are elegible for free shipping')\n",
    "    \n",
    "else:\n",
    "    extra=500-(item_1+item_2)\n",
    "    print('please add', extra, 'rs for free shipping')"
   ]
  },
  {
   "cell_type": "code",
   "execution_count": 67,
   "id": "21d10852",
   "metadata": {},
   "outputs": [
    {
     "name": "stdout",
     "output_type": "stream",
     "text": [
      "both are not true\n"
     ]
    }
   ],
   "source": [
    "# use of and condition(both is true)\n",
    "\n",
    "a=200\n",
    "b=33\n",
    "c=500\n",
    "if a>b and c<a:\n",
    "    print('both condition are true')\n",
    "else:\n",
    "    print('both are not true')"
   ]
  },
  {
   "cell_type": "code",
   "execution_count": 68,
   "id": "bdb592d8",
   "metadata": {},
   "outputs": [
    {
     "name": "stdout",
     "output_type": "stream",
     "text": [
      "both condition are true\n"
     ]
    }
   ],
   "source": [
    "# use of or condition(one is true)\n",
    "\n",
    "a=200\n",
    "b=33\n",
    "c=500\n",
    "if a>b or c<a:\n",
    "    print('both condition are true')\n",
    "else:\n",
    "    print('both are not true')"
   ]
  },
  {
   "cell_type": "code",
   "execution_count": 108,
   "id": "ca0f859a",
   "metadata": {},
   "outputs": [
    {
     "name": "stdout",
     "output_type": "stream",
     "text": [
      "first class\n"
     ]
    }
   ],
   "source": [
    "# find student level\n",
    "marks=65\n",
    "if marks>60:\n",
    "    if marks>70:\n",
    "        print('distinction')\n",
    "    else:\n",
    "        print('first class')\n",
    "elif marks>50 and marks<=60:\n",
    "    print('second class')\n",
    "elif marks>=35:\n",
    "    print('pass')\n",
    "else:\n",
    "    print('fail')\n"
   ]
  },
  {
   "cell_type": "code",
   "execution_count": null,
   "id": "cda506d7",
   "metadata": {},
   "outputs": [],
   "source": []
  }
 ],
 "metadata": {
  "kernelspec": {
   "display_name": "Python 3 (ipykernel)",
   "language": "python",
   "name": "python3"
  },
  "language_info": {
   "codemirror_mode": {
    "name": "ipython",
    "version": 3
   },
   "file_extension": ".py",
   "mimetype": "text/x-python",
   "name": "python",
   "nbconvert_exporter": "python",
   "pygments_lexer": "ipython3",
   "version": "3.9.7"
  }
 },
 "nbformat": 4,
 "nbformat_minor": 5
}
