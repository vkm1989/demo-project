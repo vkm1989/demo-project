{
 "cells": [
  {
   "cell_type": "code",
   "execution_count": 1,
   "id": "624b6a25",
   "metadata": {},
   "outputs": [
    {
     "name": "stdout",
     "output_type": "stream",
     "text": [
      "[]\n"
     ]
    }
   ],
   "source": [
    "# empty list\n",
    "\n",
    "l = []\n",
    "print(l)"
   ]
  },
  {
   "cell_type": "code",
   "execution_count": 2,
   "id": "26c2b549",
   "metadata": {},
   "outputs": [
    {
     "name": "stdout",
     "output_type": "stream",
     "text": [
      "['a', 'b', 'c']\n"
     ]
    }
   ],
   "source": [
    "#initializing list\n",
    "\n",
    "l = ['a','b','c']\n",
    "print(l)"
   ]
  },
  {
   "cell_type": "code",
   "execution_count": 3,
   "id": "184e0c86",
   "metadata": {},
   "outputs": [
    {
     "data": {
      "text/plain": [
       "['a', 'b', 'c']"
      ]
     },
     "execution_count": 3,
     "metadata": {},
     "output_type": "execute_result"
    }
   ],
   "source": [
    "l"
   ]
  },
  {
   "cell_type": "code",
   "execution_count": 4,
   "id": "01b4613f",
   "metadata": {},
   "outputs": [
    {
     "data": {
      "text/plain": [
       "['a', 6, 9.16]"
      ]
     },
     "execution_count": 4,
     "metadata": {},
     "output_type": "execute_result"
    }
   ],
   "source": [
    "# copy into other list\n",
    "\n",
    "l = ['a', 6, 9.16]\n",
    "l"
   ]
  },
  {
   "cell_type": "code",
   "execution_count": 5,
   "id": "db8ba7cb",
   "metadata": {},
   "outputs": [],
   "source": [
    "l2 = list(l)"
   ]
  },
  {
   "cell_type": "code",
   "execution_count": 6,
   "id": "5394d14d",
   "metadata": {},
   "outputs": [
    {
     "data": {
      "text/plain": [
       "['a', 6, 9.16]"
      ]
     },
     "execution_count": 6,
     "metadata": {},
     "output_type": "execute_result"
    }
   ],
   "source": [
    "l2"
   ]
  },
  {
   "cell_type": "code",
   "execution_count": 7,
   "id": "20b86605",
   "metadata": {},
   "outputs": [
    {
     "data": {
      "text/plain": [
       "[35, 45, 60, 80, 100]"
      ]
     },
     "execution_count": 7,
     "metadata": {},
     "output_type": "execute_result"
    }
   ],
   "source": [
    "marks = [35, 45, 60, 80, 100]\n",
    "marks"
   ]
  },
  {
   "cell_type": "code",
   "execution_count": 8,
   "id": "28131e6d",
   "metadata": {},
   "outputs": [
    {
     "data": {
      "text/plain": [
       "[35, 45, 60, 80, 100]"
      ]
     },
     "execution_count": 8,
     "metadata": {},
     "output_type": "execute_result"
    }
   ],
   "source": [
    "copy_marks = marks.copy()\n",
    "copy_marks"
   ]
  },
  {
   "cell_type": "code",
   "execution_count": 9,
   "id": "bb8d2859",
   "metadata": {},
   "outputs": [
    {
     "data": {
      "text/plain": [
       "['v', 'i', 'k', 'a', 's']"
      ]
     },
     "execution_count": 9,
     "metadata": {},
     "output_type": "execute_result"
    }
   ],
   "source": [
    "# string sequence\n",
    "\n",
    "list('vikas')"
   ]
  },
  {
   "cell_type": "code",
   "execution_count": 10,
   "id": "4ece9737",
   "metadata": {},
   "outputs": [
    {
     "ename": "TypeError",
     "evalue": "'int' object is not iterable",
     "output_type": "error",
     "traceback": [
      "\u001b[1;31m---------------------------------------------------------------------------\u001b[0m",
      "\u001b[1;31mTypeError\u001b[0m                                 Traceback (most recent call last)",
      "\u001b[1;32m~\\AppData\\Local\\Temp/ipykernel_5680/4212848857.py\u001b[0m in \u001b[0;36m<module>\u001b[1;34m\u001b[0m\n\u001b[0;32m      1\u001b[0m \u001b[1;31m# integer object is not iterable\u001b[0m\u001b[1;33m\u001b[0m\u001b[1;33m\u001b[0m\u001b[0m\n\u001b[0;32m      2\u001b[0m \u001b[1;33m\u001b[0m\u001b[0m\n\u001b[1;32m----> 3\u001b[1;33m \u001b[0mlist\u001b[0m\u001b[1;33m(\u001b[0m\u001b[1;36m1234567\u001b[0m\u001b[1;33m)\u001b[0m\u001b[1;33m\u001b[0m\u001b[1;33m\u001b[0m\u001b[0m\n\u001b[0m",
      "\u001b[1;31mTypeError\u001b[0m: 'int' object is not iterable"
     ]
    }
   ],
   "source": [
    "# integer object is not iterable\n",
    "\n",
    "list(1234567)"
   ]
  },
  {
   "cell_type": "code",
   "execution_count": 12,
   "id": "13617e60",
   "metadata": {},
   "outputs": [
    {
     "name": "stdout",
     "output_type": "stream",
     "text": [
      "['radha']\n"
     ]
    }
   ],
   "source": [
    "# adding data using append method\n",
    "\n",
    "employee = []\n",
    "employee.append('radha')\n",
    "print(employee)"
   ]
  },
  {
   "cell_type": "code",
   "execution_count": 13,
   "id": "e6e0200a",
   "metadata": {},
   "outputs": [
    {
     "name": "stdout",
     "output_type": "stream",
     "text": [
      "['radha', 'vikas', 'ramesh']\n"
     ]
    }
   ],
   "source": [
    "#adding more data using append\n",
    "#its take only one argument\n",
    "\n",
    "employee.append('vikas')\n",
    "employee.append('ramesh')\n",
    "print(employee)\n",
    "\n",
    "\n",
    "\n"
   ]
  },
  {
   "cell_type": "code",
   "execution_count": 14,
   "id": "026786ff",
   "metadata": {},
   "outputs": [
    {
     "name": "stdout",
     "output_type": "stream",
     "text": [
      "['radha', \"D'souza\", 'vikas', 'ramesh']\n"
     ]
    }
   ],
   "source": [
    "# addind data using insert method\n",
    "\n",
    "employee.insert(1,\"D'souza\")\n",
    "print(employee)"
   ]
  },
  {
   "cell_type": "code",
   "execution_count": 44,
   "id": "2c82cbbf",
   "metadata": {},
   "outputs": [],
   "source": [
    "emp_salary=[15000, 28000, 19000]\n"
   ]
  },
  {
   "cell_type": "code",
   "execution_count": 45,
   "id": "22cbe032",
   "metadata": {},
   "outputs": [
    {
     "name": "stdout",
     "output_type": "stream",
     "text": [
      "[48000, 15000, 28000, 19000]\n"
     ]
    }
   ],
   "source": [
    "emp_salary.insert(0, 48000)\n",
    "print(emp_salary)"
   ]
  },
  {
   "cell_type": "code",
   "execution_count": 46,
   "id": "7450540a",
   "metadata": {},
   "outputs": [
    {
     "data": {
      "text/plain": [
       "['Rani', 'Remo', 'vikas', 'ramesh']"
      ]
     },
     "execution_count": 46,
     "metadata": {},
     "output_type": "execute_result"
    }
   ],
   "source": [
    "# using lenth method for know length of data\n",
    "employee"
   ]
  },
  {
   "cell_type": "code",
   "execution_count": 18,
   "id": "ca9a9b01",
   "metadata": {},
   "outputs": [
    {
     "data": {
      "text/plain": [
       "4"
      ]
     },
     "execution_count": 18,
     "metadata": {},
     "output_type": "execute_result"
    }
   ],
   "source": [
    "len(employee)"
   ]
  },
  {
   "cell_type": "code",
   "execution_count": 20,
   "id": "b4f847c2",
   "metadata": {},
   "outputs": [
    {
     "data": {
      "text/plain": [
       "['radha', \"D'souza\", 'vikas', 'ramesh']"
      ]
     },
     "execution_count": 20,
     "metadata": {},
     "output_type": "execute_result"
    }
   ],
   "source": [
    "# indexing and slicing\n",
    "employee"
   ]
  },
  {
   "cell_type": "code",
   "execution_count": 19,
   "id": "ad247975",
   "metadata": {},
   "outputs": [
    {
     "data": {
      "text/plain": [
       "'ramesh'"
      ]
     },
     "execution_count": 19,
     "metadata": {},
     "output_type": "execute_result"
    }
   ],
   "source": [
    "# slicing\n",
    "#grab element base on index\n",
    "#backward direction\n",
    "\n",
    "employee[-1]"
   ]
  },
  {
   "cell_type": "code",
   "execution_count": null,
   "id": "517d4ff9",
   "metadata": {},
   "outputs": [],
   "source": [
    "employee[-4]"
   ]
  },
  {
   "cell_type": "code",
   "execution_count": 21,
   "id": "22c7a904",
   "metadata": {},
   "outputs": [
    {
     "data": {
      "text/plain": [
       "'radha'"
      ]
     },
     "execution_count": 21,
     "metadata": {},
     "output_type": "execute_result"
    }
   ],
   "source": [
    "# forward direction\n",
    "\n",
    "employee[0]"
   ]
  },
  {
   "cell_type": "code",
   "execution_count": null,
   "id": "970f9585",
   "metadata": {},
   "outputs": [],
   "source": [
    "employee[3]"
   ]
  },
  {
   "cell_type": "code",
   "execution_count": 22,
   "id": "6a1168a2",
   "metadata": {},
   "outputs": [
    {
     "data": {
      "text/plain": [
       "['radha', \"D'souza\", 'vikas', 'ramesh']"
      ]
     },
     "execution_count": 22,
     "metadata": {},
     "output_type": "execute_result"
    }
   ],
   "source": [
    "employee"
   ]
  },
  {
   "cell_type": "code",
   "execution_count": 29,
   "id": "32ceb599",
   "metadata": {},
   "outputs": [
    {
     "data": {
      "text/plain": [
       "['Rani', 'Remo', 'vikas', 'ramesh']"
      ]
     },
     "execution_count": 29,
     "metadata": {},
     "output_type": "execute_result"
    }
   ],
   "source": [
    "#employee name change in index position\n",
    "\n",
    "employee[1] = 'Remo'\n",
    "employee"
   ]
  },
  {
   "cell_type": "code",
   "execution_count": 25,
   "id": "de7a92e6",
   "metadata": {},
   "outputs": [
    {
     "data": {
      "text/plain": [
       "['Rani', 'Remo', 'vikas', 'ramesh']"
      ]
     },
     "execution_count": 25,
     "metadata": {},
     "output_type": "execute_result"
    }
   ],
   "source": [
    "employee[0] = 'Rani'\n",
    "employee"
   ]
  },
  {
   "cell_type": "code",
   "execution_count": 28,
   "id": "a6f68b8d",
   "metadata": {},
   "outputs": [
    {
     "data": {
      "text/plain": [
       "[48000, 15000, 28000, 19000]"
      ]
     },
     "execution_count": 28,
     "metadata": {},
     "output_type": "execute_result"
    }
   ],
   "source": [
    "emp_salary"
   ]
  },
  {
   "cell_type": "code",
   "execution_count": 30,
   "id": "10c0e286",
   "metadata": {},
   "outputs": [
    {
     "data": {
      "text/plain": [
       "[48000, 20000, 28000, 19000]"
      ]
     },
     "execution_count": 30,
     "metadata": {},
     "output_type": "execute_result"
    }
   ],
   "source": [
    "# update data based on index\n",
    "\n",
    "emp_salary[1]=20000\n",
    "emp_salary"
   ]
  },
  {
   "cell_type": "code",
   "execution_count": 31,
   "id": "af43abe9",
   "metadata": {},
   "outputs": [
    {
     "data": {
      "text/plain": [
       "[20000, 28000, 19000]"
      ]
     },
     "execution_count": 31,
     "metadata": {},
     "output_type": "execute_result"
    }
   ],
   "source": [
    "# access data in between\n",
    "# grab index 1 and everything past it\n",
    "\n",
    "emp_salary[1:]"
   ]
  },
  {
   "cell_type": "code",
   "execution_count": 32,
   "id": "72b9392a",
   "metadata": {},
   "outputs": [
    {
     "data": {
      "text/plain": [
       "[48000, 20000, 28000]"
      ]
     },
     "execution_count": 32,
     "metadata": {},
     "output_type": "execute_result"
    }
   ],
   "source": [
    "# grab everything upto index 2\n",
    "# end index is excluded\n",
    "\n",
    "emp_salary[:3]"
   ]
  },
  {
   "cell_type": "code",
   "execution_count": 47,
   "id": "65fe4868",
   "metadata": {},
   "outputs": [
    {
     "data": {
      "text/plain": [
       "[15000, 28000]"
      ]
     },
     "execution_count": 47,
     "metadata": {},
     "output_type": "execute_result"
    }
   ],
   "source": [
    "# starting index included and ending index excluded\n",
    "\n",
    "emp_salary[1:3]"
   ]
  },
  {
   "cell_type": "code",
   "execution_count": 49,
   "id": "dbf16861",
   "metadata": {},
   "outputs": [
    {
     "data": {
      "text/plain": [
       "[48000, 15000, 28000, 19000, 25000]"
      ]
     },
     "execution_count": 49,
     "metadata": {},
     "output_type": "execute_result"
    }
   ],
   "source": [
    "# add some data temprory\n",
    "\n",
    "emp_salary+[25000]"
   ]
  },
  {
   "cell_type": "code",
   "execution_count": 50,
   "id": "449127f5",
   "metadata": {},
   "outputs": [
    {
     "data": {
      "text/plain": [
       "[48000, 15000, 28000, 19000]"
      ]
     },
     "execution_count": 50,
     "metadata": {},
     "output_type": "execute_result"
    }
   ],
   "source": [
    "# permanent emp salary is\n",
    "emp_salary"
   ]
  },
  {
   "cell_type": "code",
   "execution_count": 51,
   "id": "e9e88c74",
   "metadata": {},
   "outputs": [],
   "source": [
    "# Reassign to keep the data permanantly\n",
    "emp_salary=emp_salary+[25000]\n"
   ]
  },
  {
   "cell_type": "code",
   "execution_count": 52,
   "id": "7c1c1ce7",
   "metadata": {},
   "outputs": [
    {
     "data": {
      "text/plain": [
       "[48000, 15000, 28000, 19000, 25000]"
      ]
     },
     "execution_count": 52,
     "metadata": {},
     "output_type": "execute_result"
    }
   ],
   "source": [
    "emp_salary"
   ]
  },
  {
   "cell_type": "code",
   "execution_count": 53,
   "id": "72f3e059",
   "metadata": {},
   "outputs": [
    {
     "data": {
      "text/plain": [
       "[48000, 15000, 28000, 19000, 25000, 48000, 15000, 28000, 19000, 25000]"
      ]
     },
     "execution_count": 53,
     "metadata": {},
     "output_type": "execute_result"
    }
   ],
   "source": [
    "# use * for dublication method similar to string\n",
    "# make the list double temporary\n",
    "\n",
    "emp_salary * 2"
   ]
  },
  {
   "cell_type": "code",
   "execution_count": 54,
   "id": "2a7bc836",
   "metadata": {},
   "outputs": [
    {
     "name": "stdout",
     "output_type": "stream",
     "text": [
      "==========================================================================================\n",
      "                                             DATA TRAINED                                                             \n",
      "==========================================================================================\n"
     ]
    }
   ],
   "source": [
    "print('=' * 90)\n",
    "print('                                             DATA TRAINED                                                             ')\n",
    "print('=' * 90)"
   ]
  },
  {
   "cell_type": "code",
   "execution_count": 55,
   "id": "73410c71",
   "metadata": {},
   "outputs": [
    {
     "data": {
      "text/plain": [
       "[48000, 15000, 28000, 19000, 25000]"
      ]
     },
     "execution_count": 55,
     "metadata": {},
     "output_type": "execute_result"
    }
   ],
   "source": [
    "# Again doubling not permanantly\n",
    "\n",
    "emp_salary"
   ]
  },
  {
   "cell_type": "code",
   "execution_count": 57,
   "id": "627218df",
   "metadata": {},
   "outputs": [
    {
     "data": {
      "text/plain": [
       "2"
      ]
     },
     "execution_count": 57,
     "metadata": {},
     "output_type": "execute_result"
    }
   ],
   "source": [
    "# count method return the numbers of times it occur in your list\n",
    "# how many students got 55 marks?\n",
    "\n",
    "marks=[25,45,55,65,55,64,70]\n",
    "marks.count(55)"
   ]
  },
  {
   "cell_type": "code",
   "execution_count": 58,
   "id": "8cd2db9e",
   "metadata": {},
   "outputs": [
    {
     "data": {
      "text/plain": [
       "[25, 45, 55, 65, 55, 64, 70]"
      ]
     },
     "execution_count": 58,
     "metadata": {},
     "output_type": "execute_result"
    }
   ],
   "source": [
    "# Index \n",
    "# Its return element placed as an arguments\n",
    "# Elements is not in the list then its return an error\n",
    "# Its a duplicate data its return first position index number\n",
    "\n",
    "marks"
   ]
  },
  {
   "cell_type": "code",
   "execution_count": 59,
   "id": "c971e803",
   "metadata": {},
   "outputs": [
    {
     "data": {
      "text/plain": [
       "2"
      ]
     },
     "execution_count": 59,
     "metadata": {},
     "output_type": "execute_result"
    }
   ],
   "source": [
    "marks.index(55)"
   ]
  },
  {
   "cell_type": "code",
   "execution_count": 8,
   "id": "fea58eeb",
   "metadata": {},
   "outputs": [
    {
     "name": "stdout",
     "output_type": "stream",
     "text": [
      "['vikas', 'ramesh', 'radha', 'anil']\n"
     ]
    }
   ],
   "source": [
    "# Extend\n",
    "# Append objects at end\n",
    "\n",
    "employee=[]\n",
    "employee.append('vikas')\n",
    "employee.append('ramesh')\n",
    "employee.append('radha')\n",
    "employee.append('anil')\n",
    "print(employee)"
   ]
  },
  {
   "cell_type": "code",
   "execution_count": 9,
   "id": "63ab542e",
   "metadata": {},
   "outputs": [
    {
     "name": "stdout",
     "output_type": "stream",
     "text": [
      "['vikas', 'ramesh', 'radha', 'anil', ['Anu', 'Sapna']]\n"
     ]
    }
   ],
   "source": [
    "# Extend\n",
    "# Append objects at end\n",
    "\n",
    "employee.append(['Anu','Sapna'])\n",
    "print(employee)"
   ]
  },
  {
   "cell_type": "code",
   "execution_count": 10,
   "id": "d384b9b1",
   "metadata": {},
   "outputs": [
    {
     "name": "stdout",
     "output_type": "stream",
     "text": [
      "['vikas', 'ramesh', 'radha', 'anil', ['Anu', 'Sapna'], 'Anu', 'Sapna']\n"
     ]
    }
   ],
   "source": [
    "# Extend list by appending elements from the iterable\n",
    "employee.extend(['Anu','Sapna'])\n",
    "print(employee)\n",
    "\n"
   ]
  },
  {
   "cell_type": "code",
   "execution_count": 11,
   "id": "c2d78e06",
   "metadata": {},
   "outputs": [
    {
     "name": "stdout",
     "output_type": "stream",
     "text": [
      "['radha', 'remo', 'vikas', 'anu', 'sapna']\n"
     ]
    }
   ],
   "source": [
    "# use of extend method\n",
    "employee=['radha', 'remo','vikas']\n",
    "employee.extend(['anu','sapna'])\n",
    "print(employee)"
   ]
  },
  {
   "cell_type": "code",
   "execution_count": 12,
   "id": "f87830db",
   "metadata": {},
   "outputs": [
    {
     "data": {
      "text/plain": [
       "['Raj', 'Ram', 'Nancy']"
      ]
     },
     "execution_count": 12,
     "metadata": {},
     "output_type": "execute_result"
    }
   ],
   "source": [
    "# pop off the last element of the list\n",
    "\n",
    "students=['Raj', 'Ram', 'Nancy']\n",
    "students"
   ]
  },
  {
   "cell_type": "code",
   "execution_count": 13,
   "id": "1ffb8f53",
   "metadata": {},
   "outputs": [
    {
     "data": {
      "text/plain": [
       "'Nancy'"
      ]
     },
     "execution_count": 13,
     "metadata": {},
     "output_type": "execute_result"
    }
   ],
   "source": [
    "#delete last element\n",
    "pop_last = students.pop()\n",
    "pop_last"
   ]
  },
  {
   "cell_type": "code",
   "execution_count": 14,
   "id": "6443c911",
   "metadata": {},
   "outputs": [
    {
     "data": {
      "text/plain": [
       "['Raj', 'Ram']"
      ]
     },
     "execution_count": 14,
     "metadata": {},
     "output_type": "execute_result"
    }
   ],
   "source": [
    "students"
   ]
  },
  {
   "cell_type": "code",
   "execution_count": 15,
   "id": "df81cbcb",
   "metadata": {},
   "outputs": [
    {
     "data": {
      "text/plain": [
       "['Raj', 'Ram', 'Nancy']"
      ]
     },
     "execution_count": 15,
     "metadata": {},
     "output_type": "execute_result"
    }
   ],
   "source": [
    "# delete based on index position\n",
    "\n",
    "students=['Raj', 'Ram', 'Nancy']\n",
    "students\n"
   ]
  },
  {
   "cell_type": "code",
   "execution_count": 16,
   "id": "70639cc4",
   "metadata": {},
   "outputs": [
    {
     "data": {
      "text/plain": [
       "'Ram'"
      ]
     },
     "execution_count": 16,
     "metadata": {},
     "output_type": "execute_result"
    }
   ],
   "source": [
    "pop_index = students.pop(1)\n",
    "pop_index"
   ]
  },
  {
   "cell_type": "code",
   "execution_count": 18,
   "id": "3af60a05",
   "metadata": {},
   "outputs": [
    {
     "data": {
      "text/plain": [
       "'Ram'"
      ]
     },
     "execution_count": 18,
     "metadata": {},
     "output_type": "execute_result"
    }
   ],
   "source": [
    "pop_index"
   ]
  },
  {
   "cell_type": "code",
   "execution_count": 19,
   "id": "84a86117",
   "metadata": {},
   "outputs": [
    {
     "data": {
      "text/plain": [
       "['Raj', 'Nancy']"
      ]
     },
     "execution_count": 19,
     "metadata": {},
     "output_type": "execute_result"
    }
   ],
   "source": [
    "# find list\n",
    "\n",
    "students"
   ]
  },
  {
   "cell_type": "code",
   "execution_count": 29,
   "id": "ea99eed9",
   "metadata": {},
   "outputs": [
    {
     "data": {
      "text/plain": [
       "[100, 101, 102, 103, 101]"
      ]
     },
     "execution_count": 29,
     "metadata": {},
     "output_type": "execute_result"
    }
   ],
   "source": [
    "# Remove method remove the first occurence of a value\n",
    "\n",
    "roll_number = [100,101,102,103,101]\n",
    "roll_number"
   ]
  },
  {
   "cell_type": "code",
   "execution_count": 35,
   "id": "15c20e65",
   "metadata": {},
   "outputs": [],
   "source": [
    "# Delete data (if there are duplicate, first element is deleted)\n",
    "\n",
    "roll_number.remove(101)\n",
    "\n"
   ]
  },
  {
   "cell_type": "code",
   "execution_count": 36,
   "id": "d8fd3b88",
   "metadata": {},
   "outputs": [
    {
     "name": "stdout",
     "output_type": "stream",
     "text": [
      "[100, 102, 103, 101]\n"
     ]
    }
   ],
   "source": [
    "print(roll_number)"
   ]
  },
  {
   "cell_type": "code",
   "execution_count": 37,
   "id": "ae53a467",
   "metadata": {},
   "outputs": [
    {
     "data": {
      "text/plain": [
       "[3, 4, 3, 2, 1]"
      ]
     },
     "execution_count": 37,
     "metadata": {},
     "output_type": "execute_result"
    }
   ],
   "source": [
    "# Reverse method help you to reverse a list\n",
    "# It effect your list permanantly\n",
    "\n",
    "lst=[1,2,3,4,3]\n",
    "lst.reverse()\n",
    "lst"
   ]
  },
  {
   "cell_type": "code",
   "execution_count": 38,
   "id": "acc7d691",
   "metadata": {},
   "outputs": [
    {
     "data": {
      "text/plain": [
       "[25, 38, 49, 55, 38, 26, 47]"
      ]
     },
     "execution_count": 38,
     "metadata": {},
     "output_type": "execute_result"
    }
   ],
   "source": [
    "# Sort method sort your list in place\n",
    "# By default sort is asscending order\n",
    "\n",
    "marks= [25,38,49,55,38,26,47]\n",
    "marks"
   ]
  },
  {
   "cell_type": "code",
   "execution_count": 39,
   "id": "3088f429",
   "metadata": {},
   "outputs": [
    {
     "name": "stdout",
     "output_type": "stream",
     "text": [
      "[25, 26, 38, 38, 47, 49, 55]\n"
     ]
    }
   ],
   "source": [
    "marks.sort()\n",
    "print(marks)"
   ]
  },
  {
   "cell_type": "code",
   "execution_count": 40,
   "id": "ba388ac2",
   "metadata": {},
   "outputs": [
    {
     "name": "stdout",
     "output_type": "stream",
     "text": [
      "[55, 49, 47, 38, 38, 26, 25]\n"
     ]
    }
   ],
   "source": [
    "# Sort in descending order\n",
    "\n",
    "marks.sort(reverse=True)\n",
    "print(marks)"
   ]
  },
  {
   "cell_type": "code",
   "execution_count": 51,
   "id": "5276fa63",
   "metadata": {},
   "outputs": [
    {
     "data": {
      "text/plain": [
       "('Bengaluru', 'Chennai', 'Delhi')"
      ]
     },
     "execution_count": 51,
     "metadata": {},
     "output_type": "execute_result"
    }
   ],
   "source": [
    "# TUPLES,tuples is () parasynthis\n",
    "# tuples are similar to list but they are immutable, they can not change\n",
    "# can create a tuple with mixed types\n",
    "\n",
    "work_location=('Bengaluru','Chennai','Delhi')\n",
    "work_location"
   ]
  },
  {
   "cell_type": "code",
   "execution_count": 52,
   "id": "f3597315",
   "metadata": {},
   "outputs": [
    {
     "data": {
      "text/plain": [
       "tuple"
      ]
     },
     "execution_count": 52,
     "metadata": {},
     "output_type": "execute_result"
    }
   ],
   "source": [
    "type(work_location)"
   ]
  },
  {
   "cell_type": "code",
   "execution_count": 53,
   "id": "1f78ca28",
   "metadata": {},
   "outputs": [
    {
     "data": {
      "text/plain": [
       "(20000, 35000, 40000)"
      ]
     },
     "execution_count": 53,
     "metadata": {},
     "output_type": "execute_result"
    }
   ],
   "source": [
    "emp_salary=(20000,35000,40000)\n",
    "emp_salary"
   ]
  },
  {
   "cell_type": "code",
   "execution_count": 44,
   "id": "92b1bcf7",
   "metadata": {},
   "outputs": [
    {
     "ename": "AttributeError",
     "evalue": "'tuple' object has no attribute 'append'",
     "output_type": "error",
     "traceback": [
      "\u001b[1;31m---------------------------------------------------------------------------\u001b[0m",
      "\u001b[1;31mAttributeError\u001b[0m                            Traceback (most recent call last)",
      "\u001b[1;32m~\\AppData\\Local\\Temp/ipykernel_10664/2665301034.py\u001b[0m in \u001b[0;36m<module>\u001b[1;34m\u001b[0m\n\u001b[0;32m      1\u001b[0m \u001b[1;31m# Try to add new work location\u001b[0m\u001b[1;33m\u001b[0m\u001b[1;33m\u001b[0m\u001b[0m\n\u001b[0;32m      2\u001b[0m \u001b[1;33m\u001b[0m\u001b[0m\n\u001b[1;32m----> 3\u001b[1;33m \u001b[0mwork_location\u001b[0m\u001b[1;33m.\u001b[0m\u001b[0mappend\u001b[0m\u001b[1;33m(\u001b[0m\u001b[1;34m'Hyderabad'\u001b[0m\u001b[1;33m)\u001b[0m\u001b[1;33m\u001b[0m\u001b[1;33m\u001b[0m\u001b[0m\n\u001b[0m",
      "\u001b[1;31mAttributeError\u001b[0m: 'tuple' object has no attribute 'append'"
     ]
    }
   ],
   "source": [
    "# Try to add new work location\n",
    "\n",
    "work_location.append('Hyderabad')\n",
    "\n",
    "# attribute error, it is immutable, do not get any changes in tuple"
   ]
  },
  {
   "cell_type": "code",
   "execution_count": 54,
   "id": "0894344d",
   "metadata": {},
   "outputs": [
    {
     "data": {
      "text/plain": [
       "['Bengaluru', 'Chennai', 'Delhi']"
      ]
     },
     "execution_count": 54,
     "metadata": {},
     "output_type": "execute_result"
    }
   ],
   "source": [
    "# How do i add it?\n",
    "# Convert \"tuple\" into \"list\" and change the data as per our wish\n",
    "# Reassining\n",
    "\n",
    "work_location = list(work_location)\n",
    "work_location"
   ]
  },
  {
   "cell_type": "code",
   "execution_count": 56,
   "id": "f6d58a8c",
   "metadata": {},
   "outputs": [
    {
     "data": {
      "text/plain": [
       "list"
      ]
     },
     "execution_count": 56,
     "metadata": {},
     "output_type": "execute_result"
    }
   ],
   "source": [
    "# after convert in list it will come in [] square bracket\n",
    "\n",
    "type(work_location)"
   ]
  },
  {
   "cell_type": "code",
   "execution_count": 57,
   "id": "5a707af7",
   "metadata": {},
   "outputs": [
    {
     "data": {
      "text/plain": [
       "['Bengaluru', 'Chennai', 'Delhi', 'Hyderabad']"
      ]
     },
     "execution_count": 57,
     "metadata": {},
     "output_type": "execute_result"
    }
   ],
   "source": [
    "# change the data\n",
    "\n",
    "work_location.append('Hyderabad')\n",
    "work_location"
   ]
  },
  {
   "cell_type": "code",
   "execution_count": 58,
   "id": "1325c1ca",
   "metadata": {},
   "outputs": [
    {
     "data": {
      "text/plain": [
       "['Bengaluru', 'Kolkata', 'Delhi', 'Hyderabad']"
      ]
     },
     "execution_count": 58,
     "metadata": {},
     "output_type": "execute_result"
    }
   ],
   "source": [
    "# data add through indexposition\n",
    "\n",
    "work_location[1] = 'Kolkata'\n",
    "work_location"
   ]
  },
  {
   "cell_type": "code",
   "execution_count": 59,
   "id": "eff792ff",
   "metadata": {},
   "outputs": [],
   "source": [
    "# Convert into tuple\n",
    "\n",
    "work_location = tuple(work_location)\n"
   ]
  },
  {
   "cell_type": "code",
   "execution_count": 60,
   "id": "cb37511e",
   "metadata": {},
   "outputs": [
    {
     "data": {
      "text/plain": [
       "('Bengaluru', 'Kolkata', 'Delhi', 'Hyderabad')"
      ]
     },
     "execution_count": 60,
     "metadata": {},
     "output_type": "execute_result"
    }
   ],
   "source": [
    "work_location"
   ]
  },
  {
   "cell_type": "code",
   "execution_count": 61,
   "id": "738731a6",
   "metadata": {},
   "outputs": [
    {
     "data": {
      "text/plain": [
       "tuple"
      ]
     },
     "execution_count": 61,
     "metadata": {},
     "output_type": "execute_result"
    }
   ],
   "source": [
    "type(work_location)"
   ]
  },
  {
   "cell_type": "code",
   "execution_count": 62,
   "id": "88602388",
   "metadata": {},
   "outputs": [
    {
     "data": {
      "text/plain": [
       "4"
      ]
     },
     "execution_count": 62,
     "metadata": {},
     "output_type": "execute_result"
    }
   ],
   "source": [
    "# chek length just like a list\n",
    "\n",
    "len(work_location)\n"
   ]
  },
  {
   "cell_type": "code",
   "execution_count": 63,
   "id": "c0c9553b",
   "metadata": {},
   "outputs": [
    {
     "data": {
      "text/plain": [
       "'Delhi'"
      ]
     },
     "execution_count": 63,
     "metadata": {},
     "output_type": "execute_result"
    }
   ],
   "source": [
    "# use indexing just like we did in list\n",
    "\n",
    "work_location[2]\n"
   ]
  },
  {
   "cell_type": "code",
   "execution_count": 64,
   "id": "f2ee41a4",
   "metadata": {},
   "outputs": [
    {
     "data": {
      "text/plain": [
       "'Hyderabad'"
      ]
     },
     "execution_count": 64,
     "metadata": {},
     "output_type": "execute_result"
    }
   ],
   "source": [
    "# slicing just like a list\n",
    "\n",
    "work_location[-1]"
   ]
  },
  {
   "cell_type": "code",
   "execution_count": 65,
   "id": "00516ef8",
   "metadata": {},
   "outputs": [
    {
     "data": {
      "text/plain": [
       "(25, 50, 88, 90, 50)"
      ]
     },
     "execution_count": 65,
     "metadata": {},
     "output_type": "execute_result"
    }
   ],
   "source": [
    "# Basic tuple method\n",
    "\n",
    "numbers = (25,50,88,90,50)\n",
    "numbers\n"
   ]
  },
  {
   "cell_type": "code",
   "execution_count": 66,
   "id": "96bd3c19",
   "metadata": {},
   "outputs": [
    {
     "data": {
      "text/plain": [
       "1"
      ]
     },
     "execution_count": 66,
     "metadata": {},
     "output_type": "execute_result"
    }
   ],
   "source": [
    "# use index to enter a value and return the index\n",
    "\n",
    "numbers.index(50)"
   ]
  },
  {
   "cell_type": "code",
   "execution_count": 67,
   "id": "a8ad70d0",
   "metadata": {},
   "outputs": [
    {
     "data": {
      "text/plain": [
       "2"
      ]
     },
     "execution_count": 67,
     "metadata": {},
     "output_type": "execute_result"
    }
   ],
   "source": [
    "# use count to count the numbers of times a value appears\n",
    "\n",
    "numbers.count(50)"
   ]
  },
  {
   "cell_type": "code",
   "execution_count": 1,
   "id": "fca4b574",
   "metadata": {},
   "outputs": [],
   "source": [
    "# Sets are an unordered collection of unique elements which can be constructed using the set() function\n",
    "\n",
    "roll_numbers=set()"
   ]
  },
  {
   "cell_type": "code",
   "execution_count": 2,
   "id": "c151136d",
   "metadata": {},
   "outputs": [
    {
     "data": {
      "text/plain": [
       "set"
      ]
     },
     "execution_count": 2,
     "metadata": {},
     "output_type": "execute_result"
    }
   ],
   "source": [
    "type(roll_numbers)"
   ]
  },
  {
   "cell_type": "code",
   "execution_count": 3,
   "id": "e2242cf1",
   "metadata": {},
   "outputs": [],
   "source": [
    "# we add to set with the add method\n",
    "\n",
    "roll_numbers.add(1)"
   ]
  },
  {
   "cell_type": "code",
   "execution_count": 4,
   "id": "36d95226",
   "metadata": {},
   "outputs": [
    {
     "data": {
      "text/plain": [
       "{1}"
      ]
     },
     "execution_count": 4,
     "metadata": {},
     "output_type": "execute_result"
    }
   ],
   "source": [
    "roll_numbers"
   ]
  },
  {
   "cell_type": "code",
   "execution_count": 5,
   "id": "d80457b0",
   "metadata": {},
   "outputs": [],
   "source": [
    "roll_numbers.add(2)"
   ]
  },
  {
   "cell_type": "code",
   "execution_count": 6,
   "id": "16accfe9",
   "metadata": {},
   "outputs": [
    {
     "data": {
      "text/plain": [
       "{1, 2}"
      ]
     },
     "execution_count": 6,
     "metadata": {},
     "output_type": "execute_result"
    }
   ],
   "source": [
    "roll_numbers"
   ]
  },
  {
   "cell_type": "code",
   "execution_count": 7,
   "id": "6cdfd5af",
   "metadata": {},
   "outputs": [],
   "source": [
    "# try to add the same element\n",
    "# duplicate data not show, only unique numbers\n",
    "\n",
    "roll_numbers.add(1)"
   ]
  },
  {
   "cell_type": "code",
   "execution_count": 8,
   "id": "f50ed456",
   "metadata": {},
   "outputs": [
    {
     "data": {
      "text/plain": [
       "{1, 2}"
      ]
     },
     "execution_count": 8,
     "metadata": {},
     "output_type": "execute_result"
    }
   ],
   "source": [
    "roll_numbers"
   ]
  },
  {
   "cell_type": "code",
   "execution_count": 9,
   "id": "d5556fc8",
   "metadata": {},
   "outputs": [],
   "source": [
    "# create a list with repeats\n",
    "\n",
    "remove_dups = [8,5,6,9,1,1,2,2,3,4,5,6,1,2]"
   ]
  },
  {
   "cell_type": "code",
   "execution_count": 10,
   "id": "62bcfbc0",
   "metadata": {},
   "outputs": [
    {
     "data": {
      "text/plain": [
       "{1, 2, 3, 4, 5, 6, 8, 9}"
      ]
     },
     "execution_count": 10,
     "metadata": {},
     "output_type": "execute_result"
    }
   ],
   "source": [
    "# cast as set to get unique values\n",
    "\n",
    "set(remove_dups)"
   ]
  },
  {
   "cell_type": "code",
   "execution_count": 25,
   "id": "c74cf741",
   "metadata": {},
   "outputs": [],
   "source": [
    "# you can use set of string as well\n",
    "\n",
    "animal_name=set()"
   ]
  },
  {
   "cell_type": "code",
   "execution_count": 26,
   "id": "d627d7ba",
   "metadata": {},
   "outputs": [
    {
     "data": {
      "text/plain": [
       "set"
      ]
     },
     "execution_count": 26,
     "metadata": {},
     "output_type": "execute_result"
    }
   ],
   "source": [
    "type(animal_name)"
   ]
  },
  {
   "cell_type": "code",
   "execution_count": 27,
   "id": "66ce7014",
   "metadata": {},
   "outputs": [],
   "source": [
    "animal_name.add('dog')"
   ]
  },
  {
   "cell_type": "code",
   "execution_count": 28,
   "id": "fbecd925",
   "metadata": {},
   "outputs": [
    {
     "data": {
      "text/plain": [
       "{'dog'}"
      ]
     },
     "execution_count": 28,
     "metadata": {},
     "output_type": "execute_result"
    }
   ],
   "source": [
    "animal_name"
   ]
  },
  {
   "cell_type": "code",
   "execution_count": 30,
   "id": "26398782",
   "metadata": {},
   "outputs": [],
   "source": [
    "animal_name.add('cat')"
   ]
  },
  {
   "cell_type": "code",
   "execution_count": 31,
   "id": "97349395",
   "metadata": {},
   "outputs": [
    {
     "data": {
      "text/plain": [
       "{'cat', 'dog'}"
      ]
     },
     "execution_count": 31,
     "metadata": {},
     "output_type": "execute_result"
    }
   ],
   "source": [
    "animal_name"
   ]
  },
  {
   "cell_type": "code",
   "execution_count": 33,
   "id": "1a949103",
   "metadata": {},
   "outputs": [],
   "source": [
    "remove_dups1=['cat','dog','lion','dog','cat']"
   ]
  },
  {
   "cell_type": "code",
   "execution_count": 34,
   "id": "7453d555",
   "metadata": {},
   "outputs": [
    {
     "data": {
      "text/plain": [
       "{'cat', 'dog', 'lion'}"
      ]
     },
     "execution_count": 34,
     "metadata": {},
     "output_type": "execute_result"
    }
   ],
   "source": [
    "set(remove_dups1)"
   ]
  },
  {
   "cell_type": "code",
   "execution_count": null,
   "id": "2db03852",
   "metadata": {},
   "outputs": [],
   "source": []
  }
 ],
 "metadata": {
  "kernelspec": {
   "display_name": "Python 3 (ipykernel)",
   "language": "python",
   "name": "python3"
  },
  "language_info": {
   "codemirror_mode": {
    "name": "ipython",
    "version": 3
   },
   "file_extension": ".py",
   "mimetype": "text/x-python",
   "name": "python",
   "nbconvert_exporter": "python",
   "pygments_lexer": "ipython3",
   "version": "3.9.7"
  }
 },
 "nbformat": 4,
 "nbformat_minor": 5
}
