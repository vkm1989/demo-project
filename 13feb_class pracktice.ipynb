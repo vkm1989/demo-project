{
 "cells": [
  {
   "cell_type": "code",
   "execution_count": 5,
   "id": "851c5b17",
   "metadata": {},
   "outputs": [
    {
     "name": "stdout",
     "output_type": "stream",
     "text": [
      "Its greater than 25\n"
     ]
    }
   ],
   "source": [
    "num1=20\n",
    "num2=30\n",
    "if num1=='20':\n",
    "    print('Its not 20')\n",
    "    \n",
    "elif num2>25:\n",
    "    print('Its greater than 25')\n"
   ]
  },
  {
   "cell_type": "code",
   "execution_count": null,
   "id": "ba3eaae7",
   "metadata": {},
   "outputs": [],
   "source": []
  },
  {
   "cell_type": "code",
   "execution_count": null,
   "id": "bc56955a",
   "metadata": {},
   "outputs": [],
   "source": []
  }
 ],
 "metadata": {
  "kernelspec": {
   "display_name": "Python 3 (ipykernel)",
   "language": "python",
   "name": "python3"
  },
  "language_info": {
   "codemirror_mode": {
    "name": "ipython",
    "version": 3
   },
   "file_extension": ".py",
   "mimetype": "text/x-python",
   "name": "python",
   "nbconvert_exporter": "python",
   "pygments_lexer": "ipython3",
   "version": "3.9.7"
  }
 },
 "nbformat": 4,
 "nbformat_minor": 5
}
